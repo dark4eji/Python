{
 "cells": [
  {
   "cell_type": "code",
   "execution_count": null,
   "metadata": {},
   "outputs": [
    {
     "name": "stdout",
     "output_type": "stream",
     "text": [
      "\n",
      "    Перед использованием программы следует убедиться, что требуемый билд находится в локальном репозитории.\n",
      "    \n",
      "    Если билд отсутствует, скопируйте его используя встроенный загрузчик, а затем установите билд.\n",
      "    \n",
      "    - Для начала работы с версией SmartPTT 9.2 введите 1\n",
      "    \n",
      "    - Для начала работы с версией SmartPTT 9.3 введите 2\n",
      "    \n",
      "    - Чтобы открыть локальный репозиторий, введите \"RF\"\n",
      "    \n",
      "    Введите ваш ответ здесь:\n",
      "rf\n",
      "None\n",
      "\n",
      "    Перед использованием программы следует убедиться, что требуемый билд находится в локальном репозитории.\n",
      "    \n",
      "    Если билд отсутствует, скопируйте его используя встроенный загрузчик, а затем установите билд.\n",
      "    \n",
      "    - Для начала работы с версией SmartPTT 9.2 введите 1\n",
      "    \n",
      "    - Для начала работы с версией SmartPTT 9.3 введите 2\n",
      "    \n",
      "    - Чтобы открыть локальный репозиторий, введите \"RF\"\n",
      "    \n",
      "    Введите ваш ответ здесь:\n"
     ]
    }
   ],
   "source": []
  },
  {
   "cell_type": "code",
   "execution_count": null,
   "metadata": {
    "collapsed": true
   },
   "outputs": [],
   "source": []
  }
 ],
 "metadata": {
  "kernelspec": {
   "display_name": "Python 3",
   "language": "python",
   "name": "python3"
  },
  "language_info": {
   "codemirror_mode": {
    "name": "ipython",
    "version": 3
   },
   "file_extension": ".py",
   "mimetype": "text/x-python",
   "name": "python",
   "nbconvert_exporter": "python",
   "pygments_lexer": "ipython3",
   "version": "3.6.3"
  }
 },
 "nbformat": 4,
 "nbformat_minor": 2
}
